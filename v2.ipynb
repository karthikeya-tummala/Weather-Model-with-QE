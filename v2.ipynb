{
 "cells": [
  {
   "cell_type": "code",
   "execution_count": null,
   "metadata": {
    "vscode": {
     "languageId": "plaintext"
    }
   },
   "outputs": [],
   "source": [
    "import matplotlib.pyplot as plt\n",
    "\n",
    "# Input variables from the keyboard\n",
    "temperature = float(input(\"Enter temperature (°C): \"))\n",
    "humidity = float(input(\"Enter humidity (%): \"))\n",
    "pressure = float(input(\"Enter pressure (hPa): \"))\n",
    "\n",
    "# Define quadratic equation coefficients\n",
    "a = 0.01\n",
    "b = -0.5\n",
    "c = 25\n",
    "\n",
    "# Calculate weather parameter\n",
    "precipitation = a * temperature**2 + b * humidity + c\n",
    "\n",
    "# Print result\n",
    "print(f\"Precipitation: {precipitation}\")\n",
    "temperature_range = range(0, 31)\n",
    "\n",
    "# Calculate precipitation for each temperature value\n",
    "precipitation_values = [a * temp**2 + b * humidity + c for temp in temperature_range]\n",
    "\n",
    "# Create plot\n",
    "plt.figure(figsize=(8, 6))\n",
    "plt.plot(temperature_range, precipitation_values, marker='o', linestyle='-')\n",
    "plt.xlabel('Temperature (°C)')\n",
    "plt.ylabel('Precipitation (mm)')\n",
    "plt.title('Relationship between Temperature and Precipitation')\n",
    "plt.grid(True)\n",
    "\n",
    "# Show plot\n",
    "plt.show()\n"
   ]
  }
 ],
 "metadata": {
  "language_info": {
   "name": "python"
  }
 },
 "nbformat": 4,
 "nbformat_minor": 2
}
