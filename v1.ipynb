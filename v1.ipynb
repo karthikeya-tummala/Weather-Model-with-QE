{
 "cells": [
  {
   "cell_type": "code",
   "execution_count": null,
   "metadata": {},
   "outputs": [],
   "source": [
    "import matplotlib.pyplot as plt\n",
    "\n",
    "# Quadratic equation\n",
    "temperature = 20.0\n",
    "pressure = 800.0\n",
    "humidity = 79.0\n",
    "\n",
    "# Quadratic equation coefficients\n",
    "a = 0.01\n",
    "b = -0.5\n",
    "c = 25\n",
    "\n",
    "# Calculate weather parameter (e.g., precipitation)\n",
    "precipitation = a * temperature**2 + b * humidity + c\n",
    "\n",
    "# Generate x-axis values (temperature range)\n",
    "temperature_range = range(0, 31)\n",
    "\n",
    "# Calculate precipitation for each temperature value\n",
    "precipitation_values = [a * temp**2 + b * humidity + c for temp in temperature_range]\n",
    "print(f\"Precipitation: {precipitation}\")\n",
    "\n",
    "# Create plot\n",
    "plt.figure(figsize=(8, 6))\n",
    "plt.plot(temperature_range, precipitation_values, marker='o', linestyle='-')\n",
    "plt.xlabel('Temperature (°C)')\n",
    "plt.ylabel('Precipitation (mm)')\n",
    "plt.title('Relationship between Temperature and Precipitation')\n",
    "plt.grid(True)\n",
    "plt.legend()\n",
    "\n",
    "# Show plot\n",
    "plt.show()\n"
   ]
  }
 ],
 "metadata": {
  "kernelspec": {
   "display_name": "Python 3",
   "language": "python",
   "name": "python3"
  },
  "language_info": {
   "name": "python",
   "version": "3.12.6"
  }
 },
 "nbformat": 4,
 "nbformat_minor": 2
}
