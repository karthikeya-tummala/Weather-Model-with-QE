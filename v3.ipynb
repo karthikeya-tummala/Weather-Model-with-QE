{
 "cells": [
  {
   "cell_type": "code",
   "execution_count": null,
   "metadata": {
    "vscode": {
     "languageId": "plaintext"
    }
   },
   "outputs": [],
   "source": [
    "import matplotlib.pyplot as plt\n",
    "\n",
    "# Get user input for multiple sets\n",
    "sets_of_inputs = []\n",
    "\n",
    "while True:\n",
    "# Get coefficients\n",
    "  temperature = float(input(\"Enter coefficient temperature: \"))\n",
    "  pressure = float(input(\"Enter coefficient pressure: \"))\n",
    "  humidity = float(input(\"Enter coefficient humidity: \"))\n",
    "\n",
    "# Get time point\n",
    "  time = float(input(\"Enter time: \"))\n",
    "  if input(\"Add another set? (yes/no): \").lower() != \"yes\":\n",
    "    break\n",
    "sets_of_inputs.append([temperature, pressure, humidity, time])\n",
    "\n",
    "# Calculate weather parameters\n",
    "weather_parameters = {}\n",
    "for i, set_of_inputs in enumerate(sets_of_inputs):\n",
    "  temperature, pressure, humidity, time = set_of_inputs\n",
    "  weather_parameter = temperature * time**2 + pressure * time + humidity\n",
    "  weather_parameters[f\"Set {i+1}\"] = weather_parameter\n",
    "\n",
    "# Print results\n",
    "for key, value in weather_parameters.items():\n",
    "  print(f\"{key}: {value}\")\n",
    "  temperature_range = range(0, 31)\n",
    "precipitation_values = [temperature * time**2 + pressure * time + humidity for temperature in temperature_range]\n",
    "\n",
    "# Create plot\n",
    "plt.figure(figsize=(8, 6))\n",
    "plt.plot(temperature_range, precipitation_values, marker='o', linestyle='-')\n",
    "plt.xlabel('Temperature (°C)')\n",
    "plt.ylabel('Precipitation (mm)')\n",
    "plt.title('Relationship between Temperature and Precipitation')\n",
    "plt.grid(True)\n",
    "\n",
    "# Show plot\n",
    "plt.show()\n"
   ]
  }
 ],
 "metadata": {
  "language_info": {
   "name": "python"
  }
 },
 "nbformat": 4,
 "nbformat_minor": 2
}
