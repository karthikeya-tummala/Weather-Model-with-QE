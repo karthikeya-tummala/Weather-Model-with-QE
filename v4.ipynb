{
 "cells": [
  {
   "cell_type": "code",
   "execution_count": null,
   "metadata": {
    "vscode": {
     "languageId": "plaintext"
    }
   },
   "outputs": [],
   "source": [
    "import csv \n",
    "import matplotlib.pyplot as plt \n",
    "# Define file path \n",
    "\n",
    "file_path = \"weatherHistory.csv\" \n",
    "# Initialize empty list to store results \n",
    "\n",
    "results = [] \n",
    "# Read data from file using DictReader \n",
    "\n",
    "with open(file_path, \"r\") as csvfile: \n",
    "\n",
    "    reader = csv.DictReader(csvfile) \n",
    "    for row in reader: \n",
    "        # Extract variables \n",
    "        temperature = float(row[\"temperature\"]) \n",
    "        humidity = float(row[\"humidity\"]) \n",
    "        pressure = float(row[\"pressure\"]) \n",
    "        # Define quadratic equation coefficients \n",
    "        a = 0.01 \n",
    "        b = -0.5 \n",
    "        c = 25 \n",
    "        # Calculate weather parameter \n",
    "        precipitation = a * temperature**2 + b * humidity + c \n",
    "        # Store result \n",
    "        results.append({ \n",
    "            \"temperature\": temperature, \n",
    "            \"humidity\": humidity, \n",
    "            \"pressure\": pressure, \n",
    "            \"precipitation\": precipitation \n",
    "        }) \n",
    "# Plotting \n",
    "temperature_values = [result[\"temperature\"] for result in results] \n",
    "precipitation_values = [result[\"precipitation\"] for result in results] \n",
    "plt.plot(temperature_values, precipitation_values, 'o', label='Weather Data') \n",
    "plt.xlabel('Temperature (°C)') \n",
    "plt.ylabel('Precipitation') \n",
    "plt.title('Weather Data Analysis') \n",
    "plt.legend() \n",
    "# Save the plot to a file (e.g., PNG) \n",
    "plt.savefig('weather_plot.png') \n",
    "# Print results \n",
    "for result in results: \n",
    "    print(f\"Temperature: {result['temperature']}°C, Humidity: {result['humidity']}%, \" \n",
    "          f\"Pressure: {result['pressure']}hPa, Precipitation: {result['precipitation']}\")\n",
    "# Show the plot \n",
    "plt.show()\n"
   ]
  }
 ],
 "metadata": {
  "language_info": {
   "name": "python"
  }
 },
 "nbformat": 4,
 "nbformat_minor": 2
}
